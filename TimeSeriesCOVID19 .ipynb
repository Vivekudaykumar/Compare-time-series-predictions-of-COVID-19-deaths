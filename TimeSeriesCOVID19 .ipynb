{
 "cells": [
  {
   "cell_type": "markdown",
   "metadata": {},
   "source": [
    "# Comparing time series predictions of COVID-19 deaths"
   ]
  },
  {
   "cell_type": "markdown",
   "metadata": {},
   "source": [
    "\n",
    "![Comparison](Comparison.png)"
   ]
  },
  {
   "cell_type": "code",
   "execution_count": 1,
   "metadata": {},
   "outputs": [
    {
     "name": "stderr",
     "output_type": "stream",
     "text": [
      "Matplotlib created a temporary config/cache directory at /home/rhyme/.config/matplotlib because the default path (/tmp/matplotlib-ier2wbb3) is not a writable directory; it is highly recommended to set the MPLCONFIGDIR environment variable to a writable directory, in particular to speed up the import of Matplotlib and to better support multiprocessing.\n",
      "Matplotlib is building the font cache; this may take a moment.\n",
      "Importing plotly failed. Interactive plots will not work.\n"
     ]
    }
   ],
   "source": [
    "import pmdarima as pm\n",
    "from statsmodels.tsa.seasonal import seasonal_decompose\n",
    "from sklearn.model_selection import TimeSeriesSplit\n",
    "import pandas as pd\n",
    "import numpy as np\n",
    "import datetime\n",
    "import requests\n",
    "import warnings\n",
    "\n",
    "import matplotlib.pyplot as plt\n",
    "import matplotlib\n",
    "import matplotlib.dates as mdates\n",
    "\n",
    "from xgboost import XGBRegressor\n",
    "from sklearn.ensemble import RandomForestRegressor\n",
    "from sklearn.metrics import mean_squared_error, mean_absolute_error\n",
    "from sklearn.preprocessing import OrdinalEncoder\n",
    "from sklearn.svm import SVR\n",
    "from sklearn.model_selection import train_test_split\n",
    "from statsmodels.tsa.statespace.sarimax import SARIMAX\n",
    "from statsmodels.tsa.arima_model import ARIMA\n",
    "from sklearn.preprocessing import StandardScaler\n",
    "from fbprophet import Prophet\n",
    "from fbprophet.plot import plot_plotly, add_changepoints_to_plot\n",
    "from keras.models import Sequential\n",
    "from keras.layers import Dense\n",
    "\n",
    "from keras.optimizers import Adam\n",
    "\n",
    "warnings.filterwarnings('ignore')\n"
   ]
  },
  {
   "cell_type": "markdown",
   "metadata": {},
   "source": [
    "# Task 1: Open the data and prepare the dataset data frame"
   ]
  },
  {
   "cell_type": "code",
   "execution_count": 27,
   "metadata": {},
   "outputs": [],
   "source": [
    "deaths_df = pd.read_csv('time_series_covid19_deaths_global.csv')"
   ]
  },
  {
   "cell_type": "markdown",
   "metadata": {},
   "source": [
    "First, get the data for the daily deaths in all countries in the report"
   ]
  },
  {
   "cell_type": "code",
   "execution_count": 28,
   "metadata": {},
   "outputs": [
    {
     "data": {
      "text/html": [
       "<div>\n",
       "<style scoped>\n",
       "    .dataframe tbody tr th:only-of-type {\n",
       "        vertical-align: middle;\n",
       "    }\n",
       "\n",
       "    .dataframe tbody tr th {\n",
       "        vertical-align: top;\n",
       "    }\n",
       "\n",
       "    .dataframe thead th {\n",
       "        text-align: right;\n",
       "    }\n",
       "</style>\n",
       "<table border=\"1\" class=\"dataframe\">\n",
       "  <thead>\n",
       "    <tr style=\"text-align: right;\">\n",
       "      <th></th>\n",
       "      <th>1/22/20</th>\n",
       "      <th>1/23/20</th>\n",
       "      <th>1/24/20</th>\n",
       "      <th>1/25/20</th>\n",
       "      <th>1/26/20</th>\n",
       "      <th>1/27/20</th>\n",
       "      <th>1/28/20</th>\n",
       "      <th>1/29/20</th>\n",
       "      <th>1/30/20</th>\n",
       "      <th>1/31/20</th>\n",
       "      <th>...</th>\n",
       "      <th>8/7/20</th>\n",
       "      <th>8/8/20</th>\n",
       "      <th>8/9/20</th>\n",
       "      <th>8/10/20</th>\n",
       "      <th>8/11/20</th>\n",
       "      <th>8/12/20</th>\n",
       "      <th>8/13/20</th>\n",
       "      <th>8/14/20</th>\n",
       "      <th>8/15/20</th>\n",
       "      <th>8/16/20</th>\n",
       "    </tr>\n",
       "  </thead>\n",
       "  <tbody>\n",
       "    <tr>\n",
       "      <th>0</th>\n",
       "      <td>0</td>\n",
       "      <td>0</td>\n",
       "      <td>0</td>\n",
       "      <td>0</td>\n",
       "      <td>0</td>\n",
       "      <td>0</td>\n",
       "      <td>0</td>\n",
       "      <td>0</td>\n",
       "      <td>0</td>\n",
       "      <td>0</td>\n",
       "      <td>...</td>\n",
       "      <td>1307</td>\n",
       "      <td>1312</td>\n",
       "      <td>1312</td>\n",
       "      <td>1328</td>\n",
       "      <td>1344</td>\n",
       "      <td>1354</td>\n",
       "      <td>1363</td>\n",
       "      <td>1363</td>\n",
       "      <td>1370</td>\n",
       "      <td>1375</td>\n",
       "    </tr>\n",
       "    <tr>\n",
       "      <th>1</th>\n",
       "      <td>0</td>\n",
       "      <td>0</td>\n",
       "      <td>0</td>\n",
       "      <td>0</td>\n",
       "      <td>0</td>\n",
       "      <td>0</td>\n",
       "      <td>0</td>\n",
       "      <td>0</td>\n",
       "      <td>0</td>\n",
       "      <td>0</td>\n",
       "      <td>...</td>\n",
       "      <td>189</td>\n",
       "      <td>193</td>\n",
       "      <td>199</td>\n",
       "      <td>200</td>\n",
       "      <td>205</td>\n",
       "      <td>208</td>\n",
       "      <td>213</td>\n",
       "      <td>219</td>\n",
       "      <td>225</td>\n",
       "      <td>228</td>\n",
       "    </tr>\n",
       "    <tr>\n",
       "      <th>2</th>\n",
       "      <td>0</td>\n",
       "      <td>0</td>\n",
       "      <td>0</td>\n",
       "      <td>0</td>\n",
       "      <td>0</td>\n",
       "      <td>0</td>\n",
       "      <td>0</td>\n",
       "      <td>0</td>\n",
       "      <td>0</td>\n",
       "      <td>0</td>\n",
       "      <td>...</td>\n",
       "      <td>1282</td>\n",
       "      <td>1293</td>\n",
       "      <td>1302</td>\n",
       "      <td>1312</td>\n",
       "      <td>1322</td>\n",
       "      <td>1333</td>\n",
       "      <td>1341</td>\n",
       "      <td>1351</td>\n",
       "      <td>1360</td>\n",
       "      <td>1370</td>\n",
       "    </tr>\n",
       "    <tr>\n",
       "      <th>3</th>\n",
       "      <td>0</td>\n",
       "      <td>0</td>\n",
       "      <td>0</td>\n",
       "      <td>0</td>\n",
       "      <td>0</td>\n",
       "      <td>0</td>\n",
       "      <td>0</td>\n",
       "      <td>0</td>\n",
       "      <td>0</td>\n",
       "      <td>0</td>\n",
       "      <td>...</td>\n",
       "      <td>52</td>\n",
       "      <td>52</td>\n",
       "      <td>52</td>\n",
       "      <td>52</td>\n",
       "      <td>52</td>\n",
       "      <td>53</td>\n",
       "      <td>53</td>\n",
       "      <td>53</td>\n",
       "      <td>53</td>\n",
       "      <td>53</td>\n",
       "    </tr>\n",
       "    <tr>\n",
       "      <th>4</th>\n",
       "      <td>0</td>\n",
       "      <td>0</td>\n",
       "      <td>0</td>\n",
       "      <td>0</td>\n",
       "      <td>0</td>\n",
       "      <td>0</td>\n",
       "      <td>0</td>\n",
       "      <td>0</td>\n",
       "      <td>0</td>\n",
       "      <td>0</td>\n",
       "      <td>...</td>\n",
       "      <td>67</td>\n",
       "      <td>70</td>\n",
       "      <td>75</td>\n",
       "      <td>78</td>\n",
       "      <td>80</td>\n",
       "      <td>80</td>\n",
       "      <td>80</td>\n",
       "      <td>86</td>\n",
       "      <td>86</td>\n",
       "      <td>88</td>\n",
       "    </tr>\n",
       "  </tbody>\n",
       "</table>\n",
       "<p>5 rows × 208 columns</p>\n",
       "</div>"
      ],
      "text/plain": [
       "   1/22/20  1/23/20  1/24/20  1/25/20  1/26/20  1/27/20  1/28/20  1/29/20  \\\n",
       "0        0        0        0        0        0        0        0        0   \n",
       "1        0        0        0        0        0        0        0        0   \n",
       "2        0        0        0        0        0        0        0        0   \n",
       "3        0        0        0        0        0        0        0        0   \n",
       "4        0        0        0        0        0        0        0        0   \n",
       "\n",
       "   1/30/20  1/31/20  ...  8/7/20  8/8/20  8/9/20  8/10/20  8/11/20  8/12/20  \\\n",
       "0        0        0  ...    1307    1312    1312     1328     1344     1354   \n",
       "1        0        0  ...     189     193     199      200      205      208   \n",
       "2        0        0  ...    1282    1293    1302     1312     1322     1333   \n",
       "3        0        0  ...      52      52      52       52       52       53   \n",
       "4        0        0  ...      67      70      75       78       80       80   \n",
       "\n",
       "   8/13/20  8/14/20  8/15/20  8/16/20  \n",
       "0     1363     1363     1370     1375  \n",
       "1      213      219      225      228  \n",
       "2     1341     1351     1360     1370  \n",
       "3       53       53       53       53  \n",
       "4       80       86       86       88  \n",
       "\n",
       "[5 rows x 208 columns]"
      ]
     },
     "execution_count": 28,
     "metadata": {},
     "output_type": "execute_result"
    }
   ],
   "source": [
    "d=deaths_df.loc[:,\"1/22/20\":]\n",
    "d.head()"
   ]
  },
  {
   "cell_type": "markdown",
   "metadata": {},
   "source": [
    "Transpose the data frame"
   ]
  },
  {
   "cell_type": "code",
   "execution_count": 29,
   "metadata": {},
   "outputs": [],
   "source": [
    "d=d.transpose()"
   ]
  },
  {
   "cell_type": "markdown",
   "metadata": {},
   "source": [
    "Then sum row-wise"
   ]
  },
  {
   "cell_type": "code",
   "execution_count": 30,
   "metadata": {},
   "outputs": [],
   "source": [
    "d=d.sum(axis=1)"
   ]
  },
  {
   "cell_type": "markdown",
   "metadata": {},
   "source": [
    "We only need the numeric values here, so we convert `d` to a list"
   ]
  },
  {
   "cell_type": "code",
   "execution_count": 31,
   "metadata": {},
   "outputs": [],
   "source": [
    "d=d.to_list()"
   ]
  },
  {
   "cell_type": "markdown",
   "metadata": {},
   "source": [
    "Create a new data frame with two columns, which will be our dataset:"
   ]
  },
  {
   "cell_type": "code",
   "execution_count": 32,
   "metadata": {},
   "outputs": [],
   "source": [
    "dataset=pd.DataFrame(columns=[\"ds\",\"y\"])"
   ]
  },
  {
   "cell_type": "markdown",
   "metadata": {},
   "source": [
    "Get the dates from the columns in `deaths_df` data frame, starting from the fifth column. They will be obtained in string format."
   ]
  },
  {
   "cell_type": "code",
   "execution_count": 33,
   "metadata": {},
   "outputs": [],
   "source": [
    "dates=list(deaths_df.columns[4:])"
   ]
  },
  {
   "cell_type": "markdown",
   "metadata": {},
   "source": [
    "Convert the string dates into the datetime format, so that we can perform datetime operations on them"
   ]
  },
  {
   "cell_type": "code",
   "execution_count": 34,
   "metadata": {},
   "outputs": [],
   "source": [
    "dates=list(pd.to_datetime(dates))"
   ]
  },
  {
   "cell_type": "markdown",
   "metadata": {},
   "source": [
    "Now, assign the dates and deaths data to the columns in the new dataframe:"
   ]
  },
  {
   "cell_type": "code",
   "execution_count": 35,
   "metadata": {},
   "outputs": [],
   "source": [
    "dataset[\"ds\"]=dates\n",
    "dataset[\"y\"]=d"
   ]
  },
  {
   "cell_type": "markdown",
   "metadata": {},
   "source": [
    "We will need to have only 1 data column, y, with the index being ds"
   ]
  },
  {
   "cell_type": "code",
   "execution_count": 36,
   "metadata": {},
   "outputs": [],
   "source": [
    "dataset=dataset.set_index(\"ds\")"
   ]
  },
  {
   "cell_type": "markdown",
   "metadata": {},
   "source": [
    "Let's plot the daily number of deaths\n"
   ]
  },
  {
   "cell_type": "code",
   "execution_count": 37,
   "metadata": {},
   "outputs": [
    {
     "data": {
      "image/png": "[encoded data removed]",
      "text/plain": [
       "<Figure size 720x720 with 1 Axes>"
      ]
     },
     "metadata": {
      "needs_background": "light"
     },
     "output_type": "display_data"
    }
   ],
   "source": [
    "plt.figure(figsize=(10,10))\n",
    "plt.plot(dataset)\n",
    "plt.savefig(\"cumulative daily deaths\",bbox_inches=\"tight\",transparent=False)"
   ]
  },
  {
   "cell_type": "markdown",
   "metadata": {},
   "source": [
    "and let's see how the daily increase looks like. To do this, we will use the `diff` method from the Dataframe object."
   ]
  },
  {
   "cell_type": "code",
   "execution_count": 38,
   "metadata": {},
   "outputs": [
    {
     "data": {
      "image/png": "[encoded data removed]",
      "text/plain": [
       "<Figure size 720x720 with 1 Axes>"
      ]
     },
     "metadata": {
      "needs_background": "light"
     },
     "output_type": "display_data"
    }
   ],
   "source": [
    "plt.figure(figsize=(10,10))\n",
    "plt.plot(dataset.diff())\n",
    "plt.savefig(\"Daily deaths\",bbox_inches=\"tight\",transparent=False)"
   ]
  },
  {
   "cell_type": "markdown",
   "metadata": {},
   "source": [
    "In this project, we are going to analyze the daily reported deaths"
   ]
  },
  {
   "cell_type": "code",
   "execution_count": 39,
   "metadata": {},
   "outputs": [],
   "source": [
    "dataset=dataset.diff()"
   ]
  },
  {
   "cell_type": "markdown",
   "metadata": {},
   "source": [
    "We need to remove the first data point here, which will be a None value"
   ]
  },
  {
   "cell_type": "code",
   "execution_count": 40,
   "metadata": {},
   "outputs": [],
   "source": [
    "dataset=dataset.loc[\"2020-01-23\":\"2020-08-13\"]"
   ]
  },
  {
   "cell_type": "markdown",
   "metadata": {},
   "source": [
    "# Task 2: Forcasting using SARIMAX, or Seasonal AutoRegressive Integrated Moving Average with eXogenous regressors model"
   ]
  },
  {
   "cell_type": "markdown",
   "metadata": {},
   "source": [
    "SARIMAX is one of the time series models in the python statistics library statsmodels."
   ]
  },
  {
   "cell_type": "markdown",
   "metadata": {},
   "source": [
    "But before we apply the model, we will split our dataset into a training and test sets. We will do this by taking all dates prior to 31st of July as training set, on which the model will be optimized, and all dates from 31st July as the test set, on which we will test the accuracy of the predictions that the optimized model will make."
   ]
  },
  {
   "cell_type": "code",
   "execution_count": 41,
   "metadata": {},
   "outputs": [],
   "source": [
    "start_date=\"2020-07-31\"\n",
    "\n",
    "train=dataset.loc[dataset.index<pd.to_datetime(start_date)]\n",
    "test=dataset.loc[dataset.index>=pd.to_datetime(start_date)]"
   ]
  },
  {
   "cell_type": "markdown",
   "metadata": {},
   "source": [
    "Now let's talk about SARIMAX. There are three hyperparameters that go into the order tuple: p, q and d. Here we've used p=2, q=1 and d=3."
   ]
  },
  {
   "cell_type": "code",
   "execution_count": 42,
   "metadata": {},
   "outputs": [],
   "source": [
    "model=SARIMAX(train,order=(2, 1, 3))"
   ]
  },
  {
   "cell_type": "markdown",
   "metadata": {},
   "source": [
    "Next, we call the fit method to optimize the model."
   ]
  },
  {
   "cell_type": "code",
   "execution_count": 43,
   "metadata": {},
   "outputs": [],
   "source": [
    "results=model.fit(disp=True)"
   ]
  },
  {
   "cell_type": "markdown",
   "metadata": {},
   "source": [
    "Now let's make predictions using the model, and compare those against the values in the test set."
   ]
  },
  {
   "cell_type": "code",
   "execution_count": 44,
   "metadata": {},
   "outputs": [
    {
     "data": {
      "image/png": "[encoded data removed]",
      "text/plain": [
       "<Figure size 720x360 with 1 Axes>"
      ]
     },
     "metadata": {
      "needs_background": "light"
     },
     "output_type": "display_data"
    }
   ],
   "source": [
    "sarimax_prediction=results.predict(\n",
    "    start=start_date, end=\"2020-08-13\",dynamic=False)\n",
    "plt.figure(figsize=(10,5))\n",
    "l1, =plt.plot(dataset,label='observation')\n",
    "l2, =plt.plot(sarimax_prediction, label=\"ARIMA\")\n",
    "plt.legend(handles=[l1,l2])\n",
    "plt.savefig(\"SARIMAX prediction\",bbox_inches=\"tight\",transparent=False)"
   ]
  },
  {
   "cell_type": "markdown",
   "metadata": {},
   "source": [
    "Since that we are interested in comparing between the different time series analysis approaches, we are going to use one of the validation measures: mean absolute error."
   ]
  },
  {
   "cell_type": "code",
   "execution_count": 46,
   "metadata": {},
   "outputs": [
    {
     "name": "stdout",
     "output_type": "stream",
     "text": [
      "SARIMAX MAE = 650.6157483614192\n"
     ]
    }
   ],
   "source": [
    "print(\"SARIMAX MAE =\",mean_absolute_error(sarimax_prediction, test))"
   ]
  },
  {
   "cell_type": "markdown",
   "metadata": {},
   "source": [
    "However, in a typical machine learning workflow, we should find the best values of p, q and r that will minimize the error. We can use the auto_arima function in the pmdarima module to do that. This will find the optimal parameter combintation and return the best model.\n"
   ]
  },
  {
   "cell_type": "code",
   "execution_count": 47,
   "metadata": {},
   "outputs": [
    {
     "name": "stdout",
     "output_type": "stream",
     "text": [
      "Performing stepwise search to minimize aic\n",
      " ARIMA(1,1,1)(0,0,0)[0] intercept   : AIC=3111.971, Time=0.53 sec\n",
      " ARIMA(0,1,0)(0,0,0)[0] intercept   : AIC=3132.320, Time=0.02 sec\n",
      " ARIMA(1,1,0)(0,0,0)[0] intercept   : AIC=3133.730, Time=0.03 sec\n",
      " ARIMA(0,1,1)(0,0,0)[0] intercept   : AIC=3133.267, Time=0.05 sec\n",
      " ARIMA(0,1,0)(0,0,0)[0]             : AIC=3130.535, Time=0.01 sec\n",
      " ARIMA(2,1,1)(0,0,0)[0] intercept   : AIC=3099.418, Time=0.56 sec\n",
      " ARIMA(2,1,0)(0,0,0)[0] intercept   : AIC=3128.118, Time=0.06 sec\n",
      " ARIMA(3,1,1)(0,0,0)[0] intercept   : AIC=3089.597, Time=0.58 sec\n",
      " ARIMA(3,1,0)(0,0,0)[0] intercept   : AIC=3116.490, Time=0.07 sec\n",
      " ARIMA(3,1,2)(0,0,0)[0] intercept   : AIC=3043.804, Time=0.78 sec\n",
      " ARIMA(2,1,2)(0,0,0)[0] intercept   : AIC=3040.433, Time=0.69 sec\n",
      " ARIMA(1,1,2)(0,0,0)[0] intercept   : AIC=3106.295, Time=0.57 sec\n",
      " ARIMA(2,1,3)(0,0,0)[0] intercept   : AIC=3025.719, Time=0.91 sec\n",
      " ARIMA(1,1,3)(0,0,0)[0] intercept   : AIC=3105.847, Time=0.61 sec\n",
      " ARIMA(3,1,3)(0,0,0)[0] intercept   : AIC=3032.873, Time=1.04 sec\n",
      " ARIMA(2,1,3)(0,0,0)[0]             : AIC=3024.848, Time=0.75 sec\n",
      " ARIMA(1,1,3)(0,0,0)[0]             : AIC=inf, Time=0.53 sec\n",
      " ARIMA(2,1,2)(0,0,0)[0]             : AIC=inf, Time=0.34 sec\n",
      " ARIMA(3,1,3)(0,0,0)[0]             : AIC=3034.045, Time=0.90 sec\n",
      " ARIMA(1,1,2)(0,0,0)[0]             : AIC=3106.064, Time=0.25 sec\n",
      " ARIMA(3,1,2)(0,0,0)[0]             : AIC=3030.660, Time=0.67 sec\n",
      "\n",
      "Best model:  ARIMA(2,1,3)(0,0,0)[0]          \n",
      "Total fit time: 10.003 seconds\n",
      "                               SARIMAX Results                                \n",
      "==============================================================================\n",
      "Dep. Variable:                      y   No. Observations:                  190\n",
      "Model:               SARIMAX(2, 1, 3)   Log Likelihood               -1506.424\n",
      "Date:                Tue, 10 Nov 2020   AIC                           3024.848\n",
      "Time:                        14:19:55   BIC                           3044.299\n",
      "Sample:                             0   HQIC                          3032.728\n",
      "                                - 190                                         \n",
      "Covariance Type:                  opg                                         \n",
      "==============================================================================\n",
      "                 coef    std err          z      P>|z|      [0.025      0.975]\n",
      "------------------------------------------------------------------------------\n",
      "ar.L1          1.2434      0.017     72.420      0.000       1.210       1.277\n",
      "ar.L2         -0.9796      0.019    -51.206      0.000      -1.017      -0.942\n",
      "ma.L1         -1.7687      0.065    -27.195      0.000      -1.896      -1.641\n",
      "ma.L2          1.4753      0.097     15.266      0.000       1.286       1.665\n",
      "ma.L3         -0.3939      0.064     -6.141      0.000      -0.520      -0.268\n",
      "sigma2      4.964e+05   3.61e+04     13.749      0.000    4.26e+05    5.67e+05\n",
      "===================================================================================\n",
      "Ljung-Box (Q):                      208.46   Jarque-Bera (JB):                95.44\n",
      "Prob(Q):                              0.00   Prob(JB):                         0.00\n",
      "Heteroskedasticity (H):              13.70   Skew:                             0.67\n",
      "Prob(H) (two-sided):                  0.00   Kurtosis:                         6.22\n",
      "===================================================================================\n",
      "\n",
      "Warnings:\n",
      "[1] Covariance matrix calculated using the outer product of gradients (complex-step).\n"
     ]
    }
   ],
   "source": [
    "model = pm.auto_arima(train, start_p=1, start_q=1,\n",
    "                      test='adf',       # use adftest to find optimal 'd'\n",
    "                      max_p=3, max_q=3,  # maximum p and q\n",
    "                      m=1,              # frequency of series\n",
    "                      d=None,           # let model determine 'd'\n",
    "                      seasonal=False,   # No Seasonality\n",
    "                      start_P=0,\n",
    "                      D=0,\n",
    "                      trace=True,\n",
    "                      error_action='ignore',\n",
    "                      suppress_warnings=True,\n",
    "                      stepwise=True)\n",
    "\n",
    "print(model.summary())"
   ]
  },
  {
   "cell_type": "markdown",
   "metadata": {},
   "source": [
    "Note that this gives us the best mode here: \"Best model:  SARIMAX(2,2,3)(0,0,0)[0]\""
   ]
  },
  {
   "cell_type": "markdown",
   "metadata": {},
   "source": [
    "# Task 3: Forecasting using Facebook's Prophet model"
   ]
  },
  {
   "cell_type": "markdown",
   "metadata": {},
   "source": [
    "This is the open source time series library released by Facebook. It is also widely used by Facebook in their own time series analysis tasks. Facebook prophet does not require that you specify or search for hyperparameters. The model can act as a black box that does all the required computations on its own. And it works with the same object-fit-predict API.\n",
    "\n",
    "Prophet expects the data frame to have 2 columns, unlike SARIMAX."
   ]
  },
  {
   "cell_type": "code",
   "execution_count": 48,
   "metadata": {},
   "outputs": [],
   "source": [
    "train[\"ds\"]=train.index.values"
   ]
  },
  {
   "cell_type": "markdown",
   "metadata": {},
   "source": [
    "Then we create a new Prophet object and call the `fit()` method"
   ]
  },
  {
   "cell_type": "code",
   "execution_count": 52,
   "metadata": {},
   "outputs": [
    {
     "name": "stderr",
     "output_type": "stream",
     "text": [
      "INFO:fbprophet:Disabling yearly seasonality. Run prophet with yearly_seasonality=True to override this.\n",
      "INFO:fbprophet:Disabling daily seasonality. Run prophet with daily_seasonality=True to override this.\n"
     ]
    },
    {
     "data": {
      "text/plain": [
       "<fbprophet.forecaster.Prophet at 0x7f39ab037a58>"
      ]
     },
     "execution_count": 52,
     "metadata": {},
     "output_type": "execute_result"
    }
   ],
   "source": [
    "m=Prophet()\n",
    "m.fit(train)"
   ]
  },
  {
   "cell_type": "markdown",
   "metadata": {},
   "source": [
    "Now let's forecast:"
   ]
  },
  {
   "cell_type": "code",
   "execution_count": 59,
   "metadata": {},
   "outputs": [],
   "source": [
    "future=m.make_future_dataframe(periods=dataset.shape[0]-train.shape[0])\n",
    "prophet_prediction=m.predict(future)"
   ]
  },
  {
   "cell_type": "markdown",
   "metadata": {},
   "source": [
    "Now let us calculate the mean absolute error for our predictions."
   ]
  },
  {
   "cell_type": "code",
   "execution_count": 67,
   "metadata": {},
   "outputs": [],
   "source": [
    "prophet_prediction=prophet_prediction.reset_index()"
   ]
  },
  {
   "cell_type": "code",
   "execution_count": 68,
   "metadata": {},
   "outputs": [
    {
     "name": "stdout",
     "output_type": "stream",
     "text": [
      "Prophet MAE=  572.5555342749124\n"
     ]
    }
   ],
   "source": [
    "prophet_prediction=prophet_prediction.set_index(\"ds\")\n",
    "prophet_future=prophet_prediction.yhat.loc[prophet_prediction.index>=start_date]\n",
    "print(\"Prophet MAE= \",mean_absolute_error(prophet_future, test))"
   ]
  },
  {
   "cell_type": "markdown",
   "metadata": {},
   "source": [
    "Next, let's visualize the predictions."
   ]
  },
  {
   "cell_type": "code",
   "execution_count": 69,
   "metadata": {},
   "outputs": [
    {
     "data": {
      "image/png": "[encoded data removed]",
      "text/plain": [
       "<Figure size 720x360 with 1 Axes>"
      ]
     },
     "metadata": {
      "needs_background": "light"
     },
     "output_type": "display_data"
    }
   ],
   "source": [
    "plt.figure(figsize=(10,5))\n",
    "l1, = plt.plot(dataset, label='observation')\n",
    "l2, =plt.plot(prophet_future, label=\"Prophet\")\n",
    "plt.legend(handles=[l1,l2])\n",
    "plt.savefig(\"Prophet predictions\",\n",
    "           bbox_inches=\"tight\",transparent=False)"
   ]
  },
  {
   "cell_type": "markdown",
   "metadata": {},
   "source": [
    "# Task 4: Preparing the dataset for XGBOOST and NN"
   ]
  },
  {
   "cell_type": "markdown",
   "metadata": {},
   "source": [
    "Unlike the prophet and SAIMAX models, the two models we will train in Task 6, namely XGBOOST and NN, are supervised machine learning models that deal with independent data points, or examples. It assumes that each data point is totally independent from the rest of the data points in the dataset.\n",
    "\n",
    "Here is a method that extracts these features from a given dataframe object."
   ]
  },
  {
   "cell_type": "code",
   "execution_count": 82,
   "metadata": {},
   "outputs": [
    {
     "data": {
      "text/html": [
       "<div>\n",
       "<style scoped>\n",
       "    .dataframe tbody tr th:only-of-type {\n",
       "        vertical-align: middle;\n",
       "    }\n",
       "\n",
       "    .dataframe tbody tr th {\n",
       "        vertical-align: top;\n",
       "    }\n",
       "\n",
       "    .dataframe thead th {\n",
       "        text-align: right;\n",
       "    }\n",
       "</style>\n",
       "<table border=\"1\" class=\"dataframe\">\n",
       "  <thead>\n",
       "    <tr style=\"text-align: right;\">\n",
       "      <th></th>\n",
       "      <th>day</th>\n",
       "      <th>month</th>\n",
       "      <th>quarter</th>\n",
       "      <th>dayofweek</th>\n",
       "      <th>dayofyear</th>\n",
       "      <th>weekofyear</th>\n",
       "    </tr>\n",
       "  </thead>\n",
       "  <tbody>\n",
       "    <tr>\n",
       "      <th>0</th>\n",
       "      <td>23</td>\n",
       "      <td>1</td>\n",
       "      <td>1</td>\n",
       "      <td>3</td>\n",
       "      <td>23</td>\n",
       "      <td>4</td>\n",
       "    </tr>\n",
       "    <tr>\n",
       "      <th>1</th>\n",
       "      <td>24</td>\n",
       "      <td>1</td>\n",
       "      <td>1</td>\n",
       "      <td>4</td>\n",
       "      <td>24</td>\n",
       "      <td>4</td>\n",
       "    </tr>\n",
       "    <tr>\n",
       "      <th>2</th>\n",
       "      <td>25</td>\n",
       "      <td>1</td>\n",
       "      <td>1</td>\n",
       "      <td>5</td>\n",
       "      <td>25</td>\n",
       "      <td>4</td>\n",
       "    </tr>\n",
       "    <tr>\n",
       "      <th>3</th>\n",
       "      <td>26</td>\n",
       "      <td>1</td>\n",
       "      <td>1</td>\n",
       "      <td>6</td>\n",
       "      <td>26</td>\n",
       "      <td>4</td>\n",
       "    </tr>\n",
       "    <tr>\n",
       "      <th>4</th>\n",
       "      <td>27</td>\n",
       "      <td>1</td>\n",
       "      <td>1</td>\n",
       "      <td>0</td>\n",
       "      <td>27</td>\n",
       "      <td>5</td>\n",
       "    </tr>\n",
       "  </tbody>\n",
       "</table>\n",
       "</div>"
      ],
      "text/plain": [
       "   day  month  quarter  dayofweek  dayofyear  weekofyear\n",
       "0   23      1        1          3         23           4\n",
       "1   24      1        1          4         24           4\n",
       "2   25      1        1          5         25           4\n",
       "3   26      1        1          6         26           4\n",
       "4   27      1        1          0         27           5"
      ]
     },
     "execution_count": 82,
     "metadata": {},
     "output_type": "execute_result"
    }
   ],
   "source": [
    "def featurize(t):\n",
    "    X=pd.DataFrame()\n",
    "    \n",
    "    X[\"day\"]=t.index.day\n",
    "    X[\"month\"]=t.index.month\n",
    "    X[\"quarter\"]=t.index.quarter\n",
    "    X[\"dayofweek\"]=t.index.dayofweek\n",
    "    X[\"dayofyear\"]=t.index.dayofyear\n",
    "    X[\"weekofyear\"]=t.index.weekofyear\n",
    "    y=t.y\n",
    "    return X,y\n",
    "\n",
    "featurize(dataset)[0].head()"
   ]
  },
  {
   "cell_type": "markdown",
   "metadata": {},
   "source": [
    "# Task 5: Create training and test datasets by splitting the dataset, and perform data normalization."
   ]
  },
  {
   "cell_type": "markdown",
   "metadata": {},
   "source": [
    "In this task we are going to cover two topics in data preparation: splitting the dataset into training and test data, and normalizing the data.\n",
    "\n",
    "You might have already performed a splitting operation of a dataset in machine learning, where one takes a randomly selected portion of the dataset, say 20%, as a test set, while the remaining 80% is the training set. It is randomly selected because the whole dataset is randomly shufflled before the selection. Another popular approach is the k-fold cross validation.\n",
    "\n",
    "However, those two methods won't work with time series data. The reason is: when we train the model on the training set, the purpose is to predict the target values in the future, which corresponds to date values that are outside of the date values in the training set."
   ]
  },
  {
   "cell_type": "code",
   "execution_count": 83,
   "metadata": {},
   "outputs": [],
   "source": [
    "X_train,y_train=featurize(dataset.loc[dataset.index[dataset.index<pd.to_datetime(start_date)]])\n",
    "X_test, y_test=featurize(dataset.loc[dataset.index>=pd.to_datetime(start_date)])"
   ]
  },
  {
   "cell_type": "markdown",
   "metadata": {},
   "source": [
    "Now let's discuss data normalization. We perform data normalization so as to make the range of values of the features, or the columns in the X_train table, as close as possible. For example, we have the features dayofweek and dayofyear. The range of values of dayofweek is from 1 to 7, whereas dayofyear is from 1 to 365. Having such large differences in the ranges of values will either slow down the training of the machine learning model or make it quite difficult. We solve this problem by applying normalization. There are several ways we can normalize the data with. Here I will choose the StandardScaler, which applies the following equation on each of the columns.\n",
    "\n",
    "z = (x - u) / s\n",
    "\n",
    "Here x is the column before scaling, u is thee mean and s is the standard deviation. So basically, we subtract the mean of each column from itself, then divide by the standard deviation of that column. To apply StandardScaler, we first fit the scaler object to the dataset:\n"
   ]
  },
  {
   "cell_type": "code",
   "execution_count": 87,
   "metadata": {},
   "outputs": [
    {
     "data": {
      "text/plain": [
       "StandardScaler()"
      ]
     },
     "execution_count": 87,
     "metadata": {},
     "output_type": "execute_result"
    }
   ],
   "source": [
    "scaler=StandardScaler()\n",
    "scaler.fit(X_train)"
   ]
  },
  {
   "cell_type": "markdown",
   "metadata": {},
   "source": [
    "Apply the scaling to both the training and test sets, as follows."
   ]
  },
  {
   "cell_type": "code",
   "execution_count": 88,
   "metadata": {},
   "outputs": [],
   "source": [
    "scaled_train=scaler.transform(X_train)\n",
    "scaled_test=scaler.transform(X_test)"
   ]
  },
  {
   "cell_type": "markdown",
   "metadata": {},
   "source": [
    "# Task 6: Train the XGBOOST and NN models"
   ]
  },
  {
   "cell_type": "markdown",
   "metadata": {},
   "source": [
    "First, create the XGBRegressor object which will represent the XGBOOST regression model."
   ]
  },
  {
   "cell_type": "code",
   "execution_count": 89,
   "metadata": {},
   "outputs": [],
   "source": [
    "XGBOOST_model=XGBRegressor(n_estimators=10)"
   ]
  },
  {
   "cell_type": "markdown",
   "metadata": {},
   "source": [
    "Next, train the XGBOOST regression model using the fit method, and perform prediction using the predict method."
   ]
  },
  {
   "cell_type": "code",
   "execution_count": 93,
   "metadata": {},
   "outputs": [
    {
     "name": "stdout",
     "output_type": "stream",
     "text": [
      "[0]\tvalidation_0-rmse:3121.15405\tvalidation_1-rmse:4338.40674\n",
      "[1]\tvalidation_0-rmse:2264.95044\tvalidation_1-rmse:3135.70386\n",
      "[2]\tvalidation_0-rmse:1665.83826\tvalidation_1-rmse:2322.55371\n",
      "[3]\tvalidation_0-rmse:1241.47046\tvalidation_1-rmse:1676.83875\n",
      "[4]\tvalidation_0-rmse:942.85718\tvalidation_1-rmse:1199.80676\n",
      "[5]\tvalidation_0-rmse:732.31842\tvalidation_1-rmse:765.99835\n",
      "[6]\tvalidation_0-rmse:582.53577\tvalidation_1-rmse:501.29828\n",
      "[7]\tvalidation_0-rmse:472.67627\tvalidation_1-rmse:667.14893\n",
      "[8]\tvalidation_0-rmse:394.62479\tvalidation_1-rmse:765.89960\n",
      "[9]\tvalidation_0-rmse:338.00449\tvalidation_1-rmse:1083.99853\n"
     ]
    }
   ],
   "source": [
    "XGBOOST_model.fit(scaled_train, y_train,\n",
    "                     eval_set=[(scaled_train,y_train), (scaled_test, y_test)],\n",
    "                     verbose=True)\n",
    "XGBOOST_prediction=XGBOOST_model.predict(scaled_test)\n",
    "                                        "
   ]
  },
  {
   "cell_type": "markdown",
   "metadata": {},
   "source": [
    "Let us calculate the mean absolute error for the training."
   ]
  },
  {
   "cell_type": "code",
   "execution_count": 94,
   "metadata": {},
   "outputs": [
    {
     "name": "stdout",
     "output_type": "stream",
     "text": [
      "XGBOOST MAE=  951.46875\n"
     ]
    }
   ],
   "source": [
    "print(\"XGBOOST MAE= \", mean_absolute_error(XGBOOST_prediction, y_test))"
   ]
  },
  {
   "cell_type": "markdown",
   "metadata": {},
   "source": [
    "Creation and training of the feedforward neural network model."
   ]
  },
  {
   "cell_type": "code",
   "execution_count": 96,
   "metadata": {},
   "outputs": [
    {
     "name": "stdout",
     "output_type": "stream",
     "text": [
      "Epoch 1/220\n",
      "6/6 [==============================] - 0s 38ms/step - loss: 3521.5291 - val_loss: 5794.5859\n",
      "Epoch 2/220\n",
      "6/6 [==============================] - 0s 7ms/step - loss: 3521.4641 - val_loss: 5794.4663\n",
      "Epoch 3/220\n",
      "6/6 [==============================] - 0s 9ms/step - loss: 3521.4033 - val_loss: 5794.4688\n",
      "Epoch 4/220\n",
      "6/6 [==============================] - 0s 7ms/step - loss: 3521.3394 - val_loss: 5794.3540\n",
      "Epoch 5/220\n",
      "6/6 [==============================] - 0s 6ms/step - loss: 3521.2727 - val_loss: 5794.2891\n",
      "Epoch 6/220\n",
      "6/6 [==============================] - 0s 13ms/step - loss: 3521.2017 - val_loss: 5794.2100\n",
      "Epoch 7/220\n",
      "6/6 [==============================] - 0s 16ms/step - loss: 3521.1282 - val_loss: 5794.1753\n",
      "Epoch 8/220\n",
      "6/6 [==============================] - 0s 16ms/step - loss: 3521.0457 - val_loss: 5794.0312\n",
      "Epoch 9/220\n",
      "6/6 [==============================] - 0s 13ms/step - loss: 3520.9556 - val_loss: 5793.9009\n",
      "Epoch 10/220\n",
      "6/6 [==============================] - 0s 11ms/step - loss: 3520.8577 - val_loss: 5793.7603\n",
      "Epoch 11/220\n",
      "6/6 [==============================] - 0s 17ms/step - loss: 3520.7500 - val_loss: 5793.5815\n",
      "Epoch 12/220\n",
      "6/6 [==============================] - 0s 11ms/step - loss: 3520.6262 - val_loss: 5793.3750\n",
      "Epoch 13/220\n",
      "6/6 [==============================] - 0s 8ms/step - loss: 3520.4934 - val_loss: 5793.2222\n",
      "Epoch 14/220\n",
      "6/6 [==============================] - 0s 5ms/step - loss: 3520.3435 - val_loss: 5792.9521\n",
      "Epoch 15/220\n",
      "6/6 [==============================] - 0s 5ms/step - loss: 3520.1777 - val_loss: 5792.5703\n",
      "Epoch 16/220\n",
      "6/6 [==============================] - 0s 4ms/step - loss: 3519.9866 - val_loss: 5792.2803\n",
      "Epoch 17/220\n",
      "6/6 [==============================] - 0s 7ms/step - loss: 3519.7871 - val_loss: 5791.7031\n",
      "Epoch 18/220\n",
      "6/6 [==============================] - 0s 5ms/step - loss: 3519.5505 - val_loss: 5791.2681\n",
      "Epoch 19/220\n",
      "6/6 [==============================] - 0s 8ms/step - loss: 3519.2917 - val_loss: 5790.7451\n",
      "Epoch 20/220\n",
      "6/6 [==============================] - 0s 5ms/step - loss: 3519.0120 - val_loss: 5790.0771\n",
      "Epoch 21/220\n",
      "6/6 [==============================] - 0s 4ms/step - loss: 3518.6938 - val_loss: 5789.3389\n",
      "Epoch 22/220\n",
      "6/6 [==============================] - 0s 5ms/step - loss: 3518.3425 - val_loss: 5788.4893\n",
      "Epoch 23/220\n",
      "6/6 [==============================] - 0s 5ms/step - loss: 3517.9634 - val_loss: 5787.5459\n",
      "Epoch 24/220\n",
      "6/6 [==============================] - 0s 5ms/step - loss: 3517.5400 - val_loss: 5786.4644\n",
      "Epoch 25/220\n",
      "6/6 [==============================] - 0s 6ms/step - loss: 3517.0864 - val_loss: 5785.3413\n",
      "Epoch 26/220\n",
      "6/6 [==============================] - 0s 5ms/step - loss: 3516.5688 - val_loss: 5784.3091\n",
      "Epoch 27/220\n",
      "6/6 [==============================] - 0s 7ms/step - loss: 3516.0171 - val_loss: 5783.1753\n",
      "Epoch 28/220\n",
      "6/6 [==============================] - 0s 6ms/step - loss: 3515.4055 - val_loss: 5782.1128\n",
      "Epoch 29/220\n",
      "6/6 [==============================] - 0s 6ms/step - loss: 3514.7683 - val_loss: 5780.5366\n",
      "Epoch 30/220\n",
      "6/6 [==============================] - 0s 6ms/step - loss: 3514.0452 - val_loss: 5778.8179\n",
      "Epoch 31/220\n",
      "6/6 [==============================] - 0s 5ms/step - loss: 3513.2878 - val_loss: 5776.9951\n",
      "Epoch 32/220\n",
      "6/6 [==============================] - 0s 7ms/step - loss: 3512.4419 - val_loss: 5775.3491\n",
      "Epoch 33/220\n",
      "6/6 [==============================] - 0s 7ms/step - loss: 3511.5366 - val_loss: 5773.5518\n",
      "Epoch 34/220\n",
      "6/6 [==============================] - 0s 6ms/step - loss: 3510.6130 - val_loss: 5770.7358\n",
      "Epoch 35/220\n",
      "6/6 [==============================] - 0s 5ms/step - loss: 3509.5679 - val_loss: 5768.3472\n",
      "Epoch 36/220\n",
      "6/6 [==============================] - 0s 6ms/step - loss: 3508.4553 - val_loss: 5766.0693\n",
      "Epoch 37/220\n",
      "6/6 [==============================] - 0s 6ms/step - loss: 3507.3003 - val_loss: 5763.5747\n",
      "Epoch 38/220\n",
      "6/6 [==============================] - 0s 5ms/step - loss: 3506.0908 - val_loss: 5760.2212\n",
      "Epoch 39/220\n",
      "6/6 [==============================] - 0s 6ms/step - loss: 3504.7351 - val_loss: 5757.2969\n",
      "Epoch 40/220\n",
      "6/6 [==============================] - 0s 5ms/step - loss: 3503.3220 - val_loss: 5754.3037\n",
      "Epoch 41/220\n",
      "6/6 [==============================] - 0s 6ms/step - loss: 3501.8618 - val_loss: 5750.5757\n",
      "Epoch 42/220\n",
      "6/6 [==============================] - 0s 6ms/step - loss: 3500.2668 - val_loss: 5746.8218\n",
      "Epoch 43/220\n",
      "6/6 [==============================] - 0s 6ms/step - loss: 3498.6077 - val_loss: 5742.8237\n",
      "Epoch 44/220\n",
      "6/6 [==============================] - 0s 5ms/step - loss: 3496.8374 - val_loss: 5738.8853\n",
      "Epoch 45/220\n",
      "6/6 [==============================] - 0s 6ms/step - loss: 3494.9771 - val_loss: 5734.7788\n",
      "Epoch 46/220\n",
      "6/6 [==============================] - 0s 7ms/step - loss: 3493.0928 - val_loss: 5729.7739\n",
      "Epoch 47/220\n",
      "6/6 [==============================] - 0s 6ms/step - loss: 3490.9792 - val_loss: 5725.8477\n",
      "Epoch 48/220\n",
      "6/6 [==============================] - 0s 5ms/step - loss: 3488.8420 - val_loss: 5721.2378\n",
      "Epoch 49/220\n",
      "6/6 [==============================] - 0s 5ms/step - loss: 3486.6006 - val_loss: 5715.9663\n",
      "Epoch 50/220\n",
      "6/6 [==============================] - 0s 5ms/step - loss: 3484.2783 - val_loss: 5710.0942\n",
      "Epoch 51/220\n",
      "6/6 [==============================] - 0s 5ms/step - loss: 3481.8042 - val_loss: 5704.5337\n",
      "Epoch 52/220\n",
      "6/6 [==============================] - 0s 7ms/step - loss: 3479.2100 - val_loss: 5698.7134\n",
      "Epoch 53/220\n",
      "6/6 [==============================] - 0s 5ms/step - loss: 3476.5920 - val_loss: 5692.2383\n",
      "Epoch 54/220\n",
      "6/6 [==============================] - 0s 7ms/step - loss: 3473.7644 - val_loss: 5685.7573\n",
      "Epoch 55/220\n",
      "6/6 [==============================] - 0s 6ms/step - loss: 3470.8757 - val_loss: 5679.4019\n",
      "Epoch 56/220\n",
      "6/6 [==============================] - 0s 5ms/step - loss: 3467.8318 - val_loss: 5672.3369\n",
      "Epoch 57/220\n",
      "6/6 [==============================] - 0s 5ms/step - loss: 3464.6755 - val_loss: 5665.5591\n",
      "Epoch 58/220\n",
      "6/6 [==============================] - 0s 7ms/step - loss: 3461.4822 - val_loss: 5656.8237\n",
      "Epoch 59/220\n",
      "6/6 [==============================] - 0s 6ms/step - loss: 3457.9775 - val_loss: 5648.9546\n",
      "Epoch 60/220\n",
      "6/6 [==============================] - 0s 4ms/step - loss: 3454.6089 - val_loss: 5639.2275\n",
      "Epoch 61/220\n",
      "6/6 [==============================] - 0s 5ms/step - loss: 3450.9290 - val_loss: 5630.1875\n",
      "Epoch 62/220\n",
      "6/6 [==============================] - 0s 4ms/step - loss: 3447.0947 - val_loss: 5621.4819\n",
      "Epoch 63/220\n",
      "6/6 [==============================] - 0s 4ms/step - loss: 3443.1465 - val_loss: 5612.6519\n",
      "Epoch 64/220\n",
      "6/6 [==============================] - 0s 4ms/step - loss: 3439.1731 - val_loss: 5602.4844\n",
      "Epoch 65/220\n",
      "6/6 [==============================] - 0s 5ms/step - loss: 3435.0442 - val_loss: 5591.0815\n",
      "Epoch 66/220\n",
      "6/6 [==============================] - 0s 5ms/step - loss: 3430.6272 - val_loss: 5580.4097\n",
      "Epoch 67/220\n",
      "6/6 [==============================] - 0s 5ms/step - loss: 3426.2415 - val_loss: 5568.4053\n",
      "Epoch 68/220\n",
      "6/6 [==============================] - 0s 6ms/step - loss: 3421.6016 - val_loss: 5556.8164\n",
      "Epoch 69/220\n",
      "6/6 [==============================] - 0s 6ms/step - loss: 3416.7710 - val_loss: 5545.8667\n",
      "Epoch 70/220\n",
      "6/6 [==============================] - 0s 6ms/step - loss: 3411.8921 - val_loss: 5534.9336\n",
      "Epoch 71/220\n",
      "6/6 [==============================] - 0s 6ms/step - loss: 3406.9893 - val_loss: 5520.8462\n",
      "Epoch 72/220\n",
      "6/6 [==============================] - 0s 6ms/step - loss: 3401.6509 - val_loss: 5507.5703\n",
      "Epoch 73/220\n",
      "6/6 [==============================] - 0s 5ms/step - loss: 3396.4016 - val_loss: 5493.3950\n",
      "Epoch 74/220\n",
      "6/6 [==============================] - 0s 6ms/step - loss: 3390.8459 - val_loss: 5479.4985\n",
      "Epoch 75/220\n",
      "6/6 [==============================] - 0s 6ms/step - loss: 3385.1550 - val_loss: 5467.1587\n",
      "Epoch 76/220\n",
      "6/6 [==============================] - 0s 6ms/step - loss: 3379.3911 - val_loss: 5451.6279\n",
      "Epoch 77/220\n",
      "6/6 [==============================] - 0s 6ms/step - loss: 3373.3711 - val_loss: 5437.0142\n",
      "Epoch 78/220\n",
      "6/6 [==============================] - 0s 6ms/step - loss: 3367.3645 - val_loss: 5420.7397\n",
      "Epoch 79/220\n",
      "6/6 [==============================] - 0s 4ms/step - loss: 3360.8713 - val_loss: 5406.2446\n",
      "Epoch 80/220\n",
      "6/6 [==============================] - 0s 4ms/step - loss: 3354.5417 - val_loss: 5389.4922\n",
      "Epoch 81/220\n",
      "6/6 [==============================] - 0s 5ms/step - loss: 3347.9927 - val_loss: 5372.4536\n",
      "Epoch 82/220\n",
      "6/6 [==============================] - 0s 5ms/step - loss: 3341.1040 - val_loss: 5356.3726\n",
      "Epoch 83/220\n",
      "6/6 [==============================] - 0s 6ms/step - loss: 3334.0996 - val_loss: 5340.2300\n",
      "Epoch 84/220\n",
      "6/6 [==============================] - 0s 5ms/step - loss: 3327.0859 - val_loss: 5321.5312\n",
      "Epoch 85/220\n",
      "6/6 [==============================] - 0s 5ms/step - loss: 3319.7593 - val_loss: 5302.9663\n",
      "Epoch 86/220\n",
      "6/6 [==============================] - 0s 5ms/step - loss: 3312.2654 - val_loss: 5286.0225\n",
      "Epoch 87/220\n",
      "6/6 [==============================] - 0s 5ms/step - loss: 3304.5764 - val_loss: 5269.1255\n",
      "Epoch 88/220\n",
      "6/6 [==============================] - 0s 6ms/step - loss: 3296.8789 - val_loss: 5248.9932\n",
      "Epoch 89/220\n",
      "6/6 [==============================] - 0s 6ms/step - loss: 3288.8794 - val_loss: 5227.6997\n",
      "Epoch 90/220\n",
      "6/6 [==============================] - 0s 6ms/step - loss: 3280.6873 - val_loss: 5206.2881\n",
      "Epoch 91/220\n",
      "6/6 [==============================] - 0s 5ms/step - loss: 3272.2075 - val_loss: 5187.5459\n",
      "Epoch 92/220\n",
      "6/6 [==============================] - 0s 7ms/step - loss: 3263.7180 - val_loss: 5165.9478\n",
      "Epoch 93/220\n",
      "6/6 [==============================] - 0s 7ms/step - loss: 3255.1489 - val_loss: 5141.3696\n",
      "Epoch 94/220\n",
      "6/6 [==============================] - 0s 7ms/step - loss: 3246.1843 - val_loss: 5115.5854\n",
      "Epoch 95/220\n",
      "6/6 [==============================] - 0s 5ms/step - loss: 3237.0874 - val_loss: 5093.8276\n",
      "Epoch 96/220\n",
      "6/6 [==============================] - 0s 6ms/step - loss: 3228.1152 - val_loss: 5068.5728\n",
      "Epoch 97/220\n",
      "6/6 [==============================] - 0s 5ms/step - loss: 3218.7881 - val_loss: 5041.8599\n",
      "Epoch 98/220\n",
      "6/6 [==============================] - 0s 5ms/step - loss: 3209.1409 - val_loss: 5017.0444\n",
      "Epoch 99/220\n",
      "6/6 [==============================] - 0s 6ms/step - loss: 3199.0623 - val_loss: 4995.7544\n",
      "Epoch 100/220\n",
      "6/6 [==============================] - 0s 6ms/step - loss: 3189.2642 - val_loss: 4970.3862\n",
      "Epoch 101/220\n",
      "6/6 [==============================] - 0s 6ms/step - loss: 3179.1726 - val_loss: 4942.4644\n",
      "Epoch 102/220\n",
      "6/6 [==============================] - 0s 5ms/step - loss: 3168.9099 - val_loss: 4913.2905\n",
      "Epoch 103/220\n",
      "6/6 [==============================] - 0s 6ms/step - loss: 3158.3115 - val_loss: 4886.4131\n",
      "Epoch 104/220\n",
      "6/6 [==============================] - 0s 5ms/step - loss: 3147.4907 - val_loss: 4857.8872\n",
      "Epoch 105/220\n",
      "6/6 [==============================] - 0s 4ms/step - loss: 3136.6238 - val_loss: 4829.5210\n",
      "Epoch 106/220\n",
      "6/6 [==============================] - 0s 5ms/step - loss: 3125.3948 - val_loss: 4800.9014\n",
      "Epoch 107/220\n",
      "6/6 [==============================] - 0s 5ms/step - loss: 3114.0215 - val_loss: 4770.9253\n",
      "Epoch 108/220\n",
      "6/6 [==============================] - 0s 6ms/step - loss: 3102.4060 - val_loss: 4740.4648\n",
      "Epoch 109/220\n",
      "6/6 [==============================] - 0s 4ms/step - loss: 3090.7422 - val_loss: 4709.0962\n",
      "Epoch 110/220\n",
      "6/6 [==============================] - 0s 5ms/step - loss: 3078.9810 - val_loss: 4675.5981\n",
      "Epoch 111/220\n",
      "6/6 [==============================] - 0s 5ms/step - loss: 3066.5652 - val_loss: 4643.6807\n",
      "Epoch 112/220\n",
      "6/6 [==============================] - 0s 4ms/step - loss: 3054.3105 - val_loss: 4610.8032\n",
      "Epoch 113/220\n",
      "6/6 [==============================] - 0s 5ms/step - loss: 3041.9727 - val_loss: 4573.2397\n",
      "Epoch 114/220\n",
      "6/6 [==============================] - 0s 5ms/step - loss: 3028.6194 - val_loss: 4540.7329\n",
      "Epoch 115/220\n",
      "6/6 [==============================] - 0s 5ms/step - loss: 3015.7178 - val_loss: 4504.2134\n",
      "Epoch 116/220\n",
      "6/6 [==============================] - 0s 5ms/step - loss: 3002.7927 - val_loss: 4465.5273\n",
      "Epoch 117/220\n",
      "6/6 [==============================] - 0s 5ms/step - loss: 2988.8157 - val_loss: 4432.4067\n",
      "Epoch 118/220\n",
      "6/6 [==============================] - 0s 6ms/step - loss: 2975.1941 - val_loss: 4397.4395\n",
      "Epoch 119/220\n",
      "6/6 [==============================] - 0s 4ms/step - loss: 2961.3123 - val_loss: 4360.9956\n",
      "Epoch 120/220\n",
      "6/6 [==============================] - 0s 4ms/step - loss: 2947.4695 - val_loss: 4322.3501\n",
      "Epoch 121/220\n",
      "6/6 [==============================] - 0s 5ms/step - loss: 2933.5159 - val_loss: 4279.2261\n",
      "Epoch 122/220\n",
      "6/6 [==============================] - 0s 5ms/step - loss: 2918.5537 - val_loss: 4242.1812\n",
      "Epoch 123/220\n",
      "6/6 [==============================] - 0s 4ms/step - loss: 2903.7910 - val_loss: 4204.9180\n",
      "Epoch 124/220\n",
      "6/6 [==============================] - 0s 4ms/step - loss: 2888.4165 - val_loss: 4168.8438\n",
      "Epoch 125/220\n",
      "6/6 [==============================] - 0s 5ms/step - loss: 2874.0027 - val_loss: 4122.2295\n",
      "Epoch 126/220\n",
      "6/6 [==============================] - 0s 5ms/step - loss: 2858.3704 - val_loss: 4079.4136\n",
      "Epoch 127/220\n",
      "6/6 [==============================] - 0s 6ms/step - loss: 2842.2888 - val_loss: 4045.0435\n",
      "Epoch 128/220\n",
      "6/6 [==============================] - 0s 5ms/step - loss: 2827.0505 - val_loss: 3997.3677\n",
      "Epoch 129/220\n",
      "6/6 [==============================] - 0s 6ms/step - loss: 2810.8093 - val_loss: 3950.3040\n",
      "Epoch 130/220\n",
      "6/6 [==============================] - 0s 6ms/step - loss: 2794.4260 - val_loss: 3903.9622\n",
      "Epoch 131/220\n",
      "6/6 [==============================] - 0s 6ms/step - loss: 2778.1541 - val_loss: 3856.3660\n",
      "Epoch 132/220\n",
      "6/6 [==============================] - 0s 6ms/step - loss: 2760.5991 - val_loss: 3816.5105\n",
      "Epoch 133/220\n",
      "6/6 [==============================] - 0s 5ms/step - loss: 2743.9233 - val_loss: 3769.0901\n",
      "Epoch 134/220\n",
      "6/6 [==============================] - 0s 5ms/step - loss: 2726.8174 - val_loss: 3719.9495\n",
      "Epoch 135/220\n",
      "6/6 [==============================] - 0s 5ms/step - loss: 2709.4595 - val_loss: 3672.7405\n",
      "Epoch 136/220\n",
      "6/6 [==============================] - 0s 5ms/step - loss: 2692.1404 - val_loss: 3624.0056\n",
      "Epoch 137/220\n",
      "6/6 [==============================] - 0s 4ms/step - loss: 2674.4026 - val_loss: 3578.7976\n",
      "Epoch 138/220\n",
      "6/6 [==============================] - 0s 5ms/step - loss: 2657.2517 - val_loss: 3524.9631\n",
      "Epoch 139/220\n",
      "6/6 [==============================] - 0s 5ms/step - loss: 2639.2729 - val_loss: 3475.0676\n",
      "Epoch 140/220\n",
      "6/6 [==============================] - 0s 4ms/step - loss: 2620.2268 - val_loss: 3430.7632\n",
      "Epoch 141/220\n",
      "6/6 [==============================] - 0s 4ms/step - loss: 2602.5024 - val_loss: 3375.9792\n",
      "Epoch 142/220\n",
      "6/6 [==============================] - 0s 4ms/step - loss: 2583.5386 - val_loss: 3329.2305\n",
      "Epoch 143/220\n",
      "6/6 [==============================] - 0s 4ms/step - loss: 2565.0227 - val_loss: 3272.4558\n",
      "Epoch 144/220\n",
      "6/6 [==============================] - 0s 5ms/step - loss: 2545.1570 - val_loss: 3225.2500\n",
      "Epoch 145/220\n",
      "6/6 [==============================] - 0s 4ms/step - loss: 2526.7954 - val_loss: 3162.6917\n",
      "Epoch 146/220\n",
      "6/6 [==============================] - 0s 5ms/step - loss: 2506.7251 - val_loss: 3105.4165\n",
      "Epoch 147/220\n",
      "6/6 [==============================] - 0s 5ms/step - loss: 2486.5530 - val_loss: 3054.2729\n",
      "Epoch 148/220\n",
      "6/6 [==============================] - 0s 5ms/step - loss: 2467.4158 - val_loss: 2992.5718\n",
      "Epoch 149/220\n",
      "6/6 [==============================] - 0s 5ms/step - loss: 2446.7456 - val_loss: 2933.0981\n",
      "Epoch 150/220\n",
      "6/6 [==============================] - 0s 8ms/step - loss: 2425.7363 - val_loss: 2878.0369\n",
      "Epoch 151/220\n",
      "6/6 [==============================] - 0s 5ms/step - loss: 2404.5139 - val_loss: 2826.5872\n",
      "Epoch 152/220\n",
      "6/6 [==============================] - 0s 5ms/step - loss: 2383.6592 - val_loss: 2766.5535\n",
      "Epoch 153/220\n",
      "6/6 [==============================] - 0s 5ms/step - loss: 2362.6868 - val_loss: 2701.3333\n",
      "Epoch 154/220\n",
      "6/6 [==============================] - 0s 6ms/step - loss: 2340.4226 - val_loss: 2645.5881\n",
      "Epoch 155/220\n",
      "6/6 [==============================] - 0s 6ms/step - loss: 2319.2229 - val_loss: 2579.9214\n",
      "Epoch 156/220\n",
      "6/6 [==============================] - 0s 5ms/step - loss: 2297.4746 - val_loss: 2516.2214\n",
      "Epoch 157/220\n",
      "6/6 [==============================] - 0s 6ms/step - loss: 2274.0981 - val_loss: 2458.1692\n",
      "Epoch 158/220\n",
      "6/6 [==============================] - 0s 7ms/step - loss: 2252.2324 - val_loss: 2392.6970\n",
      "Epoch 159/220\n",
      "6/6 [==============================] - 0s 8ms/step - loss: 2228.9224 - val_loss: 2333.5999\n",
      "Epoch 160/220\n",
      "6/6 [==============================] - 0s 7ms/step - loss: 2206.2285 - val_loss: 2267.3657\n",
      "Epoch 161/220\n",
      "6/6 [==============================] - 0s 10ms/step - loss: 2182.7417 - val_loss: 2200.5249\n",
      "Epoch 162/220\n",
      "6/6 [==============================] - 0s 9ms/step - loss: 2158.7263 - val_loss: 2134.6160\n",
      "Epoch 163/220\n",
      "6/6 [==============================] - 0s 5ms/step - loss: 2135.1045 - val_loss: 2069.3665\n",
      "Epoch 164/220\n",
      "6/6 [==============================] - 0s 6ms/step - loss: 2111.0679 - val_loss: 1999.7800\n",
      "Epoch 165/220\n",
      "6/6 [==============================] - 0s 6ms/step - loss: 2086.9539 - val_loss: 1930.3942\n",
      "Epoch 166/220\n",
      "6/6 [==============================] - 0s 5ms/step - loss: 2062.8369 - val_loss: 1867.5416\n",
      "Epoch 167/220\n",
      "6/6 [==============================] - 0s 5ms/step - loss: 2038.7898 - val_loss: 1804.0265\n",
      "Epoch 168/220\n",
      "6/6 [==============================] - 0s 5ms/step - loss: 2015.7731 - val_loss: 1732.4242\n",
      "Epoch 169/220\n",
      "6/6 [==============================] - 0s 8ms/step - loss: 1990.7908 - val_loss: 1671.8214\n",
      "Epoch 170/220\n",
      "6/6 [==============================] - 0s 6ms/step - loss: 1966.1071 - val_loss: 1605.5951\n",
      "Epoch 171/220\n",
      "6/6 [==============================] - 0s 5ms/step - loss: 1942.4421 - val_loss: 1531.6536\n",
      "Epoch 172/220\n",
      "6/6 [==============================] - 0s 6ms/step - loss: 1917.7987 - val_loss: 1463.5867\n",
      "Epoch 173/220\n",
      "6/6 [==============================] - 0s 7ms/step - loss: 1895.2411 - val_loss: 1393.2939\n",
      "Epoch 174/220\n",
      "6/6 [==============================] - 0s 8ms/step - loss: 1871.8708 - val_loss: 1351.5681\n",
      "Epoch 175/220\n",
      "6/6 [==============================] - 0s 8ms/step - loss: 1851.1506 - val_loss: 1308.7867\n",
      "Epoch 176/220\n",
      "6/6 [==============================] - 0s 8ms/step - loss: 1830.0919 - val_loss: 1276.8881\n",
      "Epoch 177/220\n",
      "6/6 [==============================] - 0s 10ms/step - loss: 1811.6337 - val_loss: 1246.8418\n",
      "Epoch 178/220\n",
      "6/6 [==============================] - 0s 9ms/step - loss: 1793.1945 - val_loss: 1215.9449\n",
      "Epoch 179/220\n",
      "6/6 [==============================] - 0s 9ms/step - loss: 1774.3817 - val_loss: 1190.2020\n",
      "Epoch 180/220\n",
      "6/6 [==============================] - 0s 7ms/step - loss: 1756.1556 - val_loss: 1166.8016\n",
      "Epoch 181/220\n",
      "6/6 [==============================] - 0s 7ms/step - loss: 1738.2214 - val_loss: 1138.0342\n",
      "Epoch 182/220\n",
      "6/6 [==============================] - 0s 10ms/step - loss: 1719.0194 - val_loss: 1115.0031\n",
      "Epoch 183/220\n",
      "6/6 [==============================] - 0s 6ms/step - loss: 1702.4655 - val_loss: 1091.2307\n",
      "Epoch 184/220\n",
      "6/6 [==============================] - 0s 6ms/step - loss: 1683.5350 - val_loss: 1068.8528\n",
      "Epoch 185/220\n",
      "6/6 [==============================] - 0s 6ms/step - loss: 1667.0062 - val_loss: 1040.9752\n",
      "Epoch 186/220\n",
      "6/6 [==============================] - 0s 6ms/step - loss: 1649.1331 - val_loss: 1014.0884\n",
      "Epoch 187/220\n",
      "6/6 [==============================] - 0s 5ms/step - loss: 1631.3704 - val_loss: 990.2850\n",
      "Epoch 188/220\n",
      "6/6 [==============================] - 0s 6ms/step - loss: 1613.6647 - val_loss: 968.7668\n",
      "Epoch 189/220\n",
      "6/6 [==============================] - 0s 7ms/step - loss: 1597.5588 - val_loss: 945.7792\n",
      "Epoch 190/220\n",
      "6/6 [==============================] - 0s 5ms/step - loss: 1580.5839 - val_loss: 919.7073\n",
      "Epoch 191/220\n",
      "6/6 [==============================] - 0s 4ms/step - loss: 1566.0332 - val_loss: 896.5806\n",
      "Epoch 192/220\n",
      "6/6 [==============================] - 0s 4ms/step - loss: 1550.6658 - val_loss: 876.1912\n",
      "Epoch 193/220\n",
      "6/6 [==============================] - 0s 7ms/step - loss: 1537.5336 - val_loss: 862.4964\n",
      "Epoch 194/220\n",
      "6/6 [==============================] - 0s 8ms/step - loss: 1522.1013 - val_loss: 855.2891\n",
      "Epoch 195/220\n",
      "6/6 [==============================] - 0s 8ms/step - loss: 1509.7151 - val_loss: 846.3245\n",
      "Epoch 196/220\n",
      "6/6 [==============================] - 0s 8ms/step - loss: 1497.1302 - val_loss: 833.6548\n",
      "Epoch 197/220\n",
      "6/6 [==============================] - 0s 14ms/step - loss: 1484.7700 - val_loss: 818.8361\n",
      "Epoch 198/220\n",
      "6/6 [==============================] - 0s 8ms/step - loss: 1471.5621 - val_loss: 807.6688\n",
      "Epoch 199/220\n",
      "6/6 [==============================] - 0s 6ms/step - loss: 1459.4760 - val_loss: 796.7731\n",
      "Epoch 200/220\n",
      "6/6 [==============================] - 0s 6ms/step - loss: 1446.9689 - val_loss: 785.3623\n",
      "Epoch 201/220\n",
      "6/6 [==============================] - 0s 6ms/step - loss: 1434.7156 - val_loss: 772.7666\n",
      "Epoch 202/220\n",
      "6/6 [==============================] - 0s 8ms/step - loss: 1423.8859 - val_loss: 764.2841\n",
      "Epoch 203/220\n",
      "6/6 [==============================] - 0s 6ms/step - loss: 1410.5150 - val_loss: 758.5780\n",
      "Epoch 204/220\n",
      "6/6 [==============================] - 0s 5ms/step - loss: 1400.0046 - val_loss: 751.7106\n",
      "Epoch 205/220\n",
      "6/6 [==============================] - 0s 7ms/step - loss: 1387.8958 - val_loss: 745.5815\n",
      "Epoch 206/220\n",
      "6/6 [==============================] - 0s 5ms/step - loss: 1376.8837 - val_loss: 739.4667\n",
      "Epoch 207/220\n",
      "6/6 [==============================] - 0s 6ms/step - loss: 1365.3481 - val_loss: 734.3107\n",
      "Epoch 208/220\n",
      "6/6 [==============================] - 0s 6ms/step - loss: 1355.4785 - val_loss: 730.6264\n",
      "Epoch 209/220\n",
      "6/6 [==============================] - 0s 6ms/step - loss: 1346.3228 - val_loss: 724.4174\n",
      "Epoch 210/220\n",
      "6/6 [==============================] - 0s 5ms/step - loss: 1338.4158 - val_loss: 723.1149\n",
      "Epoch 211/220\n",
      "6/6 [==============================] - 0s 5ms/step - loss: 1331.0364 - val_loss: 722.1312\n",
      "Epoch 212/220\n",
      "6/6 [==============================] - 0s 5ms/step - loss: 1324.2136 - val_loss: 721.9321\n",
      "Epoch 213/220\n",
      "6/6 [==============================] - 0s 6ms/step - loss: 1318.4220 - val_loss: 723.8140\n",
      "Epoch 214/220\n",
      "6/6 [==============================] - 0s 6ms/step - loss: 1313.4912 - val_loss: 724.7699\n",
      "Epoch 215/220\n",
      "6/6 [==============================] - 0s 5ms/step - loss: 1307.4742 - val_loss: 725.9442\n",
      "Epoch 216/220\n",
      "6/6 [==============================] - 0s 6ms/step - loss: 1301.7804 - val_loss: 725.8249\n",
      "Epoch 217/220\n",
      "6/6 [==============================] - 0s 6ms/step - loss: 1296.3058 - val_loss: 724.4272\n",
      "Epoch 218/220\n",
      "6/6 [==============================] - 0s 6ms/step - loss: 1291.2288 - val_loss: 725.0181\n",
      "Epoch 219/220\n",
      "6/6 [==============================] - 0s 5ms/step - loss: 1285.8529 - val_loss: 725.7418\n",
      "Epoch 220/220\n",
      "6/6 [==============================] - 0s 6ms/step - loss: 1282.4315 - val_loss: 724.1743\n"
     ]
    }
   ],
   "source": [
    "NN_model=Sequential()\n",
    "NN_model.add(Dense(20, input_shape=(scaled_train.shape[1],)))\n",
    "NN_model.add(Dense(10))\n",
    "NN_model.add(Dense(1))\n",
    "NN_model.compile(loss=\"mean_absolute_error\", optimizer=Adam(lr=0.001))\n",
    "NN_model.fit(scaled_train,y_train,validation_data=(\n",
    "    scaled_test, y_test), epochs=220, verbose=1)\n",
    "NN_prediction=NN_model.predict(scaled_test)"
   ]
  },
  {
   "cell_type": "markdown",
   "metadata": {},
   "source": [
    "Let's compare the MAE values."
   ]
  },
  {
   "cell_type": "code",
   "execution_count": 98,
   "metadata": {},
   "outputs": [
    {
     "name": "stdout",
     "output_type": "stream",
     "text": [
      "XGBOOST MAE = 951.46875\n",
      "Prophet MAE = 572.5555342749124\n",
      "SARIMAX MAE = 650.6157483614192\n",
      "NN MAE = 724.1743861607143\n"
     ]
    }
   ],
   "source": [
    "print(\"XGBOOST MAE =\",mean_absolute_error(XGBOOST_prediction, y_test))\n",
    "print(\"Prophet MAE =\",mean_absolute_error(prophet_future,test))\n",
    "print(\"SARIMAX MAE =\",mean_absolute_error(sarimax_prediction, test))\n",
    "print(\"NN MAE =\",mean_absolute_error(NN_prediction, test))\n"
   ]
  },
  {
   "cell_type": "markdown",
   "metadata": {},
   "source": [
    "Finally let us visualize the predictions of all 4 models. Note the autofmt_xdate method in matplotlib, it knows how to appropriately rotate the date labels on the x-axis."
   ]
  },
  {
   "cell_type": "code",
   "execution_count": 99,
   "metadata": {},
   "outputs": [
    {
     "data": {
      "text/plain": [
       "<Figure size 1440x1440 with 0 Axes>"
      ]
     },
     "metadata": {},
     "output_type": "display_data"
    },
    {
     "data": {
      "image/png": "[encoded data removed]",
      "text/plain": [
       "<Figure size 432x288 with 4 Axes>"
      ]
     },
     "metadata": {
      "needs_background": "light"
     },
     "output_type": "display_data"
    }
   ],
   "source": [
    "\n",
    "XGBOOST_df = pd.DataFrame({'y': XGBOOST_prediction.tolist()})\n",
    "XGBOOST_df.index = y_test.index\n",
    "\n",
    "NN_df = pd.DataFrame(NN_prediction)\n",
    "NN_df.index = y_test.index\n",
    "plt.figure(figsize=(20, 20))\n",
    "fig, axs = plt.subplots(2, 2)\n",
    "fig.suptitle('Compare SARIMAX, prophet, XGBOOST and NN')\n",
    "axs[0, 0].plot(dataset.tail(50))\n",
    "axs[0, 0].plot(sarimax_prediction.tail(50))\n",
    "axs[0, 0].set_title(\"SARIMAX\")\n",
    "axs[0, 1].plot(dataset.tail(50))\n",
    "axs[0, 1].plot(prophet_future.tail(50))\n",
    "axs[0, 1].set_title(\"Prophet\")\n",
    "axs[1, 0].plot(dataset.tail(50))\n",
    "axs[1, 0].plot(XGBOOST_df.tail(50))\n",
    "axs[1, 0].set_title(\"XGBOOST\")\n",
    "axs[1, 1].plot(dataset.tail(50))\n",
    "axs[1, 1].plot(NN_df.tail(50))\n",
    "axs[1, 1].set_title(\"NN\")\n",
    "\n",
    "for ax in fig.get_axes():\n",
    "    ax.label_outer()\n",
    "fig.autofmt_xdate()\n",
    "\n",
    "plt.savefig('Comparison',\n",
    "            bbox_inches='tight', transparent=False)"
   ]
  },
  {
   "cell_type": "code",
   "execution_count": null,
   "metadata": {},
   "outputs": [],
   "source": []
  }
 ],
 "metadata": {
  "kernelspec": {
   "display_name": "Python 3",
   "language": "python",
   "name": "python3"
  },
  "language_info": {
   "codemirror_mode": {
    "name": "ipython",
    "version": 3
   },
   "file_extension": ".py",
   "mimetype": "text/x-python",
   "name": "python",
   "nbconvert_exporter": "python",
   "pygments_lexer": "ipython3",
   "version": "3.6.9"
  }
 },
 "nbformat": 4,
 "nbformat_minor": 4
}
